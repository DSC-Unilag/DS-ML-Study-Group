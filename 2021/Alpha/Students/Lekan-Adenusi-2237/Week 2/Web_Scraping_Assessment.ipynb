{
 "cells": [
  {
   "cell_type": "code",
   "execution_count": null,
   "metadata": {},
   "outputs": [],
   "source": [
    "import requests\n",
    "from bs4 import BeautifulSoup\n",
    "import pandas as pd"
   ]
  },
  {
   "cell_type": "code",
   "execution_count": null,
   "metadata": {},
   "outputs": [],
   "source": [
    "first_page = 'http://books.toscrape.com/index.html' #first page\n",
    "base_url = 'http://books.toscrape.com/' #needed to navigate to page 2"
   ]
  },
  {
   "cell_type": "code",
   "execution_count": null,
   "metadata": {},
   "outputs": [],
   "source": [
    "book_name = []\n",
    "image_url = []\n",
    "prices = []\n",
    "rating = []\n",
    "\n",
    "page = requests.get(first_page)\n",
    "try:\n",
    "    for page_num in range(1, 51):\n",
    "        books_in_page = BeautifulSoup(page.content)\n",
    "        \n",
    "        img_ele = books_in_page.find_all('img', src=True) #to grab book name and it's image url\n",
    "        \n",
    "        book_name += [img['alt'] for img in img_ele]\n",
    "        image_url += [base_url + img['src'] for img in img_ele] \n",
    "        rating += [p['class'][-1] for p in books_in_page.select('p.star-rating')] \n",
    "        prices += [float(p.get_text()[1:]) for p in books_in_page.select('div.product_price p.price_color')]        \n",
    "        print('Page {} done'.format(page_num))\n",
    "\n",
    "        # grab relative path of next page \n",
    "        rel_path = books_in_page.find('li', attrs={'class':'next'}).find('a')['href']\n",
    "        \n",
    "        #load next page\n",
    "        next_page = requests.get(base_url + rel_path)\n",
    "        page = next_page\n",
    "        \n",
    "        base_url =  'http://books.toscrape.com/catalogue/' #to navigate to pages > 2\n",
    "        \n",
    "except AttributeError:\n",
    "    print('End of scraping')"
   ]
  },
  {
   "cell_type": "code",
   "execution_count": null,
   "metadata": {},
   "outputs": [],
   "source": [
    "book_info = {'Name':book_name, 'Image_URL':image_url, 'Price(£)':prices, 'Rating':rating}"
   ]
  },
  {
   "cell_type": "code",
   "execution_count": null,
   "metadata": {},
   "outputs": [],
   "source": [
    "dataframe = pd.DataFrame(book_info)"
   ]
  }
 ],
 "metadata": {
  "kernelspec": {
   "display_name": "Python 3",
   "language": "python",
   "name": "python3"
  },
  "language_info": {
   "codemirror_mode": {
    "name": "ipython",
    "version": 3
   },
   "file_extension": ".py",
   "mimetype": "text/x-python",
   "name": "python",
   "nbconvert_exporter": "python",
   "pygments_lexer": "ipython3",
   "version": "3.8.4"
  }
 },
 "nbformat": 4,
 "nbformat_minor": 4
}
