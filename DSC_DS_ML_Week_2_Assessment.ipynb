{
  "nbformat": 4,
  "nbformat_minor": 0,
  "metadata": {
    "colab": {
      "name": "DSC DS/ML Week 2 Assessment.ipynb",
      "provenance": [],
      "collapsed_sections": [],
      "authorship_tag": "ABX9TyMJqW+dGaz5MMqdcGt6TS8p",
      "include_colab_link": true
    },
    "kernelspec": {
      "name": "python3",
      "display_name": "Python 3"
    }
  },
  "cells": [
    {
      "cell_type": "markdown",
      "metadata": {
        "id": "view-in-github",
        "colab_type": "text"
      },
      "source": [
        "<a href=\"https://colab.research.google.com/github/mubowo/DS-ML-Study-Group/blob/main/DSC_DS_ML_Week_2_Assessment.ipynb\" target=\"_parent\"><img src=\"https://colab.research.google.com/assets/colab-badge.svg\" alt=\"Open In Colab\"/></a>"
      ]
    },
    {
      "cell_type": "markdown",
      "metadata": {
        "id": "LZt7GaT0Aia5"
      },
      "source": [
        "## DSC DS/ML Week 2 Assessment"
      ]
    },
    {
      "cell_type": "markdown",
      "metadata": {
        "id": "i-vk3IYUAqD2"
      },
      "source": [
        "Deadline: 9pm GMT+1 31-01-2020\r\n",
        "\r\n",
        "Scraping Brief\r\n",
        "Website:  [All products | Books to Scrape - Sandbox](http://books.toscrape.com/)\r\n",
        "Detail: Books to Scrape is a site built for the sole purpose of scraping practice. It contains a list of 1000 books.\r\n",
        "\r\n",
        "Task: Create a scraper that crawls through the website and scrapes details about all 1000 books. For each book, collect the:\r\n",
        "Name\r\n",
        "Image URL\r\n",
        "Price\r\n",
        "Rating\r\n",
        "\r\n",
        "These details are to be stored in a pandas dataframe.\r\n",
        "Enjoy.\r\n"
      ]
    },
    {
      "cell_type": "code",
      "metadata": {
        "id": "rIp1vZvCAVP8"
      },
      "source": [
        "# Import Libraries\r\n",
        "import pandas as pd\r\n",
        "from bs4 import BeautifulSoup as bs\r\n",
        "from urllib.request import urlopen\r\n",
        "import re"
      ],
      "execution_count": null,
      "outputs": []
    },
    {
      "cell_type": "code",
      "metadata": {
        "id": "sJs3EB8DAk1K"
      },
      "source": [
        "# define the url\r\n",
        "url = \"http://books.toscrape.com/\""
      ],
      "execution_count": null,
      "outputs": []
    },
    {
      "cell_type": "code",
      "metadata": {
        "id": "her-jfwJE-T6"
      },
      "source": [
        "# get the html from the page and assign it to the html variable\r\n",
        "html = urlopen(url)"
      ],
      "execution_count": null,
      "outputs": []
    },
    {
      "cell_type": "code",
      "metadata": {
        "id": "EbUDXyHyFSFv"
      },
      "source": [
        "# parse the html and assign it to the variable soup\r\n",
        "soup = bs(html.read(), 'html.parser')"
      ],
      "execution_count": null,
      "outputs": []
    },
    {
      "cell_type": "code",
      "metadata": {
        "colab": {
          "base_uri": "https://localhost:8080/"
        },
        "id": "iY3W8U-BFZJw",
        "outputId": "0d222389-3307-4f1d-f143-dc6e13167dca"
      },
      "source": [
        "# single item operation on get the text of the  name, image URL, price, rating\r\n",
        "name = soup.find(\"h3\").find(\"a\").get(\"title\")\r\n",
        "image_url = soup.find(\"img\", class_=\"thumbnail\").get(\"src\")\r\n",
        "price = soup.find(\"p\", class_=\"price_color\").text\r\n",
        "rating = soup.find(\"p\", class_= \"star-rating Three\").get(\"class\")[1]\r\n",
        "\r\n",
        "print(name)\r\n",
        "print(image_url)\r\n",
        "print(price)\r\n",
        "print(rating)"
      ],
      "execution_count": null,
      "outputs": [
        {
          "output_type": "stream",
          "text": [
            "A Light in the Attic\n",
            "media/cache/2c/da/2cdad67c44b002e7ead0cc35693c0e8b.jpg\n",
            "£51.77\n",
            "Three\n"
          ],
          "name": "stdout"
        }
      ]
    },
    {
      "cell_type": "code",
      "metadata": {
        "id": "c2dE0j-7OHmw",
        "colab": {
          "base_uri": "https://localhost:8080/",
          "height": 80
        },
        "outputId": "6177d553-eed5-48bb-f746-e7953a9a802c"
      },
      "source": [
        "# converts to Pandas Dataframe\r\n",
        "df1 = pd.DataFrame({\r\n",
        "    \"Name\" : name,\r\n",
        "    \"Image URL\" : image_url,\r\n",
        "    \"Price\" : price,\r\n",
        "    \"Rating\" : [rating]\r\n",
        "})\r\n",
        "\r\n",
        "# saving to csv file \r\n",
        "df1.to_csv(\"first_book_to_scrape.csv\", index=False)\r\n",
        "\r\n",
        "# preview the saved csv file\r\n",
        "df1.head()"
      ],
      "execution_count": null,
      "outputs": [
        {
          "output_type": "execute_result",
          "data": {
            "text/html": [
              "<div>\n",
              "<style scoped>\n",
              "    .dataframe tbody tr th:only-of-type {\n",
              "        vertical-align: middle;\n",
              "    }\n",
              "\n",
              "    .dataframe tbody tr th {\n",
              "        vertical-align: top;\n",
              "    }\n",
              "\n",
              "    .dataframe thead th {\n",
              "        text-align: right;\n",
              "    }\n",
              "</style>\n",
              "<table border=\"1\" class=\"dataframe\">\n",
              "  <thead>\n",
              "    <tr style=\"text-align: right;\">\n",
              "      <th></th>\n",
              "      <th>Name</th>\n",
              "      <th>Image URL</th>\n",
              "      <th>Price</th>\n",
              "      <th>Rating</th>\n",
              "    </tr>\n",
              "  </thead>\n",
              "  <tbody>\n",
              "    <tr>\n",
              "      <th>0</th>\n",
              "      <td>A Light in the Attic</td>\n",
              "      <td>media/cache/2c/da/2cdad67c44b002e7ead0cc35693c...</td>\n",
              "      <td>£51.77</td>\n",
              "      <td>Three</td>\n",
              "    </tr>\n",
              "  </tbody>\n",
              "</table>\n",
              "</div>"
            ],
            "text/plain": [
              "                   Name  ... Rating\n",
              "0  A Light in the Attic  ...  Three\n",
              "\n",
              "[1 rows x 4 columns]"
            ]
          },
          "metadata": {
            "tags": []
          },
          "execution_count": 66
        }
      ]
    },
    {
      "cell_type": "code",
      "metadata": {
        "colab": {
          "base_uri": "https://localhost:8080/"
        },
        "id": "xpa82_MXqBGn",
        "outputId": "a7433c47-b723-4a37-8649-df4c43df7214"
      },
      "source": [
        "# single page operation on get the text of the  name, image URL, price, rating\r\n",
        "\r\n",
        "names = []\r\n",
        "image_urls = []\r\n",
        "prices = []\r\n",
        "ratings = []\r\n",
        "\r\n",
        "for i in soup(\"li\", class_=\"col-xs-6 col-sm-4 col-md-3 col-lg-3\" ):\r\n",
        "  name = i.find(\"h3\").find(\"a\").get(\"title\")\r\n",
        "  names.append(name)\r\n",
        "\r\n",
        "  image_url = i.find(\"img\", class_=\"thumbnail\").get(\"src\")\r\n",
        "  image_urls.append(image_url)\r\n",
        "\r\n",
        "  price = i.find(\"p\", class_=\"price_color\").text\r\n",
        "  prices.append(price)\r\n",
        "\r\n",
        "  rating = i.find(\"p\", class_= re.compile(\"star-rating\")).get(\"class\")[1]\r\n",
        "  ratings.append(rating)\r\n",
        "\r\n",
        "# display the result\r\n",
        "print(names)\r\n",
        "print(image_urls)\r\n",
        "print(prices)\r\n",
        "print(ratings)\r\n"
      ],
      "execution_count": null,
      "outputs": [
        {
          "output_type": "stream",
          "text": [
            "['A Light in the Attic', 'Tipping the Velvet', 'Soumission', 'Sharp Objects', 'Sapiens: A Brief History of Humankind', 'The Requiem Red', 'The Dirty Little Secrets of Getting Your Dream Job', 'The Coming Woman: A Novel Based on the Life of the Infamous Feminist, Victoria Woodhull', 'The Boys in the Boat: Nine Americans and Their Epic Quest for Gold at the 1936 Berlin Olympics', 'The Black Maria', 'Starving Hearts (Triangular Trade Trilogy, #1)', \"Shakespeare's Sonnets\", 'Set Me Free', \"Scott Pilgrim's Precious Little Life (Scott Pilgrim #1)\", 'Rip it Up and Start Again', 'Our Band Could Be Your Life: Scenes from the American Indie Underground, 1981-1991', 'Olio', 'Mesaerion: The Best Science Fiction Stories 1800-1849', 'Libertarianism for Beginners', \"It's Only the Himalayas\"]\n",
            "['media/cache/2c/da/2cdad67c44b002e7ead0cc35693c0e8b.jpg', 'media/cache/26/0c/260c6ae16bce31c8f8c95daddd9f4a1c.jpg', 'media/cache/3e/ef/3eef99c9d9adef34639f510662022830.jpg', 'media/cache/32/51/3251cf3a3412f53f339e42cac2134093.jpg', 'media/cache/be/a5/bea5697f2534a2f86a3ef27b5a8c12a6.jpg', 'media/cache/68/33/68339b4c9bc034267e1da611ab3b34f8.jpg', 'media/cache/92/27/92274a95b7c251fea59a2b8a78275ab4.jpg', 'media/cache/3d/54/3d54940e57e662c4dd1f3ff00c78cc64.jpg', 'media/cache/66/88/66883b91f6804b2323c8369331cb7dd1.jpg', 'media/cache/58/46/5846057e28022268153beff6d352b06c.jpg', 'media/cache/be/f4/bef44da28c98f905a3ebec0b87be8530.jpg', 'media/cache/10/48/1048f63d3b5061cd2f424d20b3f9b666.jpg', 'media/cache/5b/88/5b88c52633f53cacf162c15f4f823153.jpg', 'media/cache/94/b1/94b1b8b244bce9677c2f29ccc890d4d2.jpg', 'media/cache/81/c4/81c4a973364e17d01f217e1188253d5e.jpg', 'media/cache/54/60/54607fe8945897cdcced0044103b10b6.jpg', 'media/cache/55/33/553310a7162dfbc2c6d19a84da0df9e1.jpg', 'media/cache/09/a3/09a3aef48557576e1a85ba7efea8ecb7.jpg', 'media/cache/0b/bc/0bbcd0a6f4bcd81ccb1049a52736406e.jpg', 'media/cache/27/a5/27a53d0bb95bdd88288eaf66c9230d7e.jpg']\n",
            "['£51.77', '£53.74', '£50.10', '£47.82', '£54.23', '£22.65', '£33.34', '£17.93', '£22.60', '£52.15', '£13.99', '£20.66', '£17.46', '£52.29', '£35.02', '£57.25', '£23.88', '£37.59', '£51.33', '£45.17']\n",
            "['Three', 'One', 'One', 'Four', 'Five', 'One', 'Four', 'Three', 'Four', 'One', 'Two', 'Four', 'Five', 'Five', 'Five', 'Three', 'One', 'One', 'Two', 'Two']\n"
          ],
          "name": "stdout"
        }
      ]
    },
    {
      "cell_type": "code",
      "metadata": {
        "colab": {
          "base_uri": "https://localhost:8080/",
          "height": 204
        },
        "id": "KL40AFhodUq_",
        "outputId": "a14d11a0-9e41-4a63-b1c9-9a01d23181be"
      },
      "source": [
        "# convert single page operation (spo) into pandas dataframe\r\n",
        "\r\n",
        "df2 = pd.DataFrame({\r\n",
        "    \"Name\" : names,\r\n",
        "    \"Image URL\" : image_urls,\r\n",
        "    \"Price\" : prices,\r\n",
        "    \"Rating\" : ratings\r\n",
        "})\r\n",
        "\r\n",
        "# saving single page operation (spo) into CSV file\r\n",
        "df2.to_csv(\"first_book_to_scrape_spo.csv\", index=False)\r\n",
        "\r\n",
        "# preview the single page operation csv file\r\n",
        "df2.head()"
      ],
      "execution_count": null,
      "outputs": [
        {
          "output_type": "execute_result",
          "data": {
            "text/html": [
              "<div>\n",
              "<style scoped>\n",
              "    .dataframe tbody tr th:only-of-type {\n",
              "        vertical-align: middle;\n",
              "    }\n",
              "\n",
              "    .dataframe tbody tr th {\n",
              "        vertical-align: top;\n",
              "    }\n",
              "\n",
              "    .dataframe thead th {\n",
              "        text-align: right;\n",
              "    }\n",
              "</style>\n",
              "<table border=\"1\" class=\"dataframe\">\n",
              "  <thead>\n",
              "    <tr style=\"text-align: right;\">\n",
              "      <th></th>\n",
              "      <th>Name</th>\n",
              "      <th>Image URL</th>\n",
              "      <th>Price</th>\n",
              "      <th>Rating</th>\n",
              "    </tr>\n",
              "  </thead>\n",
              "  <tbody>\n",
              "    <tr>\n",
              "      <th>0</th>\n",
              "      <td>A Light in the Attic</td>\n",
              "      <td>media/cache/2c/da/2cdad67c44b002e7ead0cc35693c...</td>\n",
              "      <td>£51.77</td>\n",
              "      <td>Three</td>\n",
              "    </tr>\n",
              "    <tr>\n",
              "      <th>1</th>\n",
              "      <td>Tipping the Velvet</td>\n",
              "      <td>media/cache/26/0c/260c6ae16bce31c8f8c95daddd9f...</td>\n",
              "      <td>£53.74</td>\n",
              "      <td>One</td>\n",
              "    </tr>\n",
              "    <tr>\n",
              "      <th>2</th>\n",
              "      <td>Soumission</td>\n",
              "      <td>media/cache/3e/ef/3eef99c9d9adef34639f51066202...</td>\n",
              "      <td>£50.10</td>\n",
              "      <td>One</td>\n",
              "    </tr>\n",
              "    <tr>\n",
              "      <th>3</th>\n",
              "      <td>Sharp Objects</td>\n",
              "      <td>media/cache/32/51/3251cf3a3412f53f339e42cac213...</td>\n",
              "      <td>£47.82</td>\n",
              "      <td>Four</td>\n",
              "    </tr>\n",
              "    <tr>\n",
              "      <th>4</th>\n",
              "      <td>Sapiens: A Brief History of Humankind</td>\n",
              "      <td>media/cache/be/a5/bea5697f2534a2f86a3ef27b5a8c...</td>\n",
              "      <td>£54.23</td>\n",
              "      <td>Five</td>\n",
              "    </tr>\n",
              "  </tbody>\n",
              "</table>\n",
              "</div>"
            ],
            "text/plain": [
              "                                    Name  ... Rating\n",
              "0                   A Light in the Attic  ...  Three\n",
              "1                     Tipping the Velvet  ...    One\n",
              "2                             Soumission  ...    One\n",
              "3                          Sharp Objects  ...   Four\n",
              "4  Sapiens: A Brief History of Humankind  ...   Five\n",
              "\n",
              "[5 rows x 4 columns]"
            ]
          },
          "metadata": {
            "tags": []
          },
          "execution_count": 84
        }
      ]
    },
    {
      "cell_type": "markdown",
      "metadata": {
        "id": "q6SQEI1R0GuL"
      },
      "source": [
        "## Creating all 50 pages of books.toscrape.com web"
      ]
    },
    {
      "cell_type": "code",
      "metadata": {
        "id": "aRz0V5w1dYNN"
      },
      "source": [
        "# creating all url webpage\r\n",
        "web_pages = []\r\n",
        "for j in range(1,50):\r\n",
        "  urls = \"http://books.toscrape.com/catalogue/page-\" + str(j) + \".html\"\r\n",
        "  web_pages.append(urls)"
      ],
      "execution_count": null,
      "outputs": []
    },
    {
      "cell_type": "code",
      "metadata": {
        "id": "XHG2TdGW0ajJ"
      },
      "source": [
        "# change the data extraction code to a for loop that will process the URLs one after the other and store all the data in a variable4\r\n",
        "\r\n",
        "# set all variable\r\n",
        "whole_names = []\r\n",
        "whole_image_urls = []\r\n",
        "whole_prices = []\r\n",
        "whole_ratings = []\r\n",
        "\r\n",
        "# loop through the web_pages and find the  <li> list-item elements containing the name, image-url, price & rating\r\n",
        "for k in web_pages:\r\n",
        "  html = urlopen(url)\r\n",
        "  soup = bs(html.read(), 'html.parser')\r\n",
        "  contents = soup(\"li\", class_=\"col-xs-6 col-sm-4 col-md-3 col-lg-3\" )\r\n",
        "\r\n",
        "  # loop through the content of each web_page \r\n",
        "  for l in contents:\r\n",
        "    name = l.find(\"h3\").find(\"a\").get(\"title\")\r\n",
        "    whole_names.append(name)\r\n",
        "\r\n",
        "    image_url = l.find(\"img\", class_=\"thumbnail\").get(\"src\")\r\n",
        "    whole_image_urls.append(image_url)\r\n",
        "\r\n",
        "    price = l.find(\"p\", class_=\"price_color\").text\r\n",
        "    whole_prices.append(price)\r\n",
        "\r\n",
        "    rating = l.find(\"p\", class_= re.compile(\"star-rating\")).get(\"class\")[1]\r\n",
        "    whole_ratings.append(rating)\r\n"
      ],
      "execution_count": null,
      "outputs": []
    },
    {
      "cell_type": "code",
      "metadata": {
        "colab": {
          "base_uri": "https://localhost:8080/",
          "height": 204
        },
        "id": "jCsqGFeo7RQA",
        "outputId": "580fbef4-3272-465a-c98b-10e43ac5e386"
      },
      "source": [
        "# saving web_pages scraping into Panda DataFrame\r\n",
        "df_whole = pd.DataFrame({\r\n",
        "    \"Name\" : whole_names,\r\n",
        "    \"Image URL\" : whole_image_urls,\r\n",
        "    \"Price\" : whole_prices,\r\n",
        "    \"Rating\" : whole_ratings\r\n",
        "})\r\n",
        "\r\n",
        "df_whole.to_csv(\"whole_pages.csv\", index=False)\r\n",
        "\r\n",
        "df_whole.head()"
      ],
      "execution_count": null,
      "outputs": [
        {
          "output_type": "execute_result",
          "data": {
            "text/html": [
              "<div>\n",
              "<style scoped>\n",
              "    .dataframe tbody tr th:only-of-type {\n",
              "        vertical-align: middle;\n",
              "    }\n",
              "\n",
              "    .dataframe tbody tr th {\n",
              "        vertical-align: top;\n",
              "    }\n",
              "\n",
              "    .dataframe thead th {\n",
              "        text-align: right;\n",
              "    }\n",
              "</style>\n",
              "<table border=\"1\" class=\"dataframe\">\n",
              "  <thead>\n",
              "    <tr style=\"text-align: right;\">\n",
              "      <th></th>\n",
              "      <th>Name</th>\n",
              "      <th>Image URL</th>\n",
              "      <th>Price</th>\n",
              "      <th>Rating</th>\n",
              "    </tr>\n",
              "  </thead>\n",
              "  <tbody>\n",
              "    <tr>\n",
              "      <th>0</th>\n",
              "      <td>A Light in the Attic</td>\n",
              "      <td>media/cache/2c/da/2cdad67c44b002e7ead0cc35693c...</td>\n",
              "      <td>£51.77</td>\n",
              "      <td>Three</td>\n",
              "    </tr>\n",
              "    <tr>\n",
              "      <th>1</th>\n",
              "      <td>Tipping the Velvet</td>\n",
              "      <td>media/cache/26/0c/260c6ae16bce31c8f8c95daddd9f...</td>\n",
              "      <td>£53.74</td>\n",
              "      <td>One</td>\n",
              "    </tr>\n",
              "    <tr>\n",
              "      <th>2</th>\n",
              "      <td>Soumission</td>\n",
              "      <td>media/cache/3e/ef/3eef99c9d9adef34639f51066202...</td>\n",
              "      <td>£50.10</td>\n",
              "      <td>One</td>\n",
              "    </tr>\n",
              "    <tr>\n",
              "      <th>3</th>\n",
              "      <td>Sharp Objects</td>\n",
              "      <td>media/cache/32/51/3251cf3a3412f53f339e42cac213...</td>\n",
              "      <td>£47.82</td>\n",
              "      <td>Four</td>\n",
              "    </tr>\n",
              "    <tr>\n",
              "      <th>4</th>\n",
              "      <td>Sapiens: A Brief History of Humankind</td>\n",
              "      <td>media/cache/be/a5/bea5697f2534a2f86a3ef27b5a8c...</td>\n",
              "      <td>£54.23</td>\n",
              "      <td>Five</td>\n",
              "    </tr>\n",
              "  </tbody>\n",
              "</table>\n",
              "</div>"
            ],
            "text/plain": [
              "                                    Name  ... Rating\n",
              "0                   A Light in the Attic  ...  Three\n",
              "1                     Tipping the Velvet  ...    One\n",
              "2                             Soumission  ...    One\n",
              "3                          Sharp Objects  ...   Four\n",
              "4  Sapiens: A Brief History of Humankind  ...   Five\n",
              "\n",
              "[5 rows x 4 columns]"
            ]
          },
          "metadata": {
            "tags": []
          },
          "execution_count": 90
        }
      ]
    },
    {
      "cell_type": "code",
      "metadata": {
        "colab": {
          "base_uri": "https://localhost:8080/",
          "height": 419
        },
        "id": "g78Bdz148YDO",
        "outputId": "a92cf176-9a9a-4a74-a342-922c7734d20e"
      },
      "source": [
        "df_whole"
      ],
      "execution_count": null,
      "outputs": [
        {
          "output_type": "execute_result",
          "data": {
            "text/html": [
              "<div>\n",
              "<style scoped>\n",
              "    .dataframe tbody tr th:only-of-type {\n",
              "        vertical-align: middle;\n",
              "    }\n",
              "\n",
              "    .dataframe tbody tr th {\n",
              "        vertical-align: top;\n",
              "    }\n",
              "\n",
              "    .dataframe thead th {\n",
              "        text-align: right;\n",
              "    }\n",
              "</style>\n",
              "<table border=\"1\" class=\"dataframe\">\n",
              "  <thead>\n",
              "    <tr style=\"text-align: right;\">\n",
              "      <th></th>\n",
              "      <th>Name</th>\n",
              "      <th>Image URL</th>\n",
              "      <th>Price</th>\n",
              "      <th>Rating</th>\n",
              "    </tr>\n",
              "  </thead>\n",
              "  <tbody>\n",
              "    <tr>\n",
              "      <th>0</th>\n",
              "      <td>A Light in the Attic</td>\n",
              "      <td>media/cache/2c/da/2cdad67c44b002e7ead0cc35693c...</td>\n",
              "      <td>£51.77</td>\n",
              "      <td>Three</td>\n",
              "    </tr>\n",
              "    <tr>\n",
              "      <th>1</th>\n",
              "      <td>Tipping the Velvet</td>\n",
              "      <td>media/cache/26/0c/260c6ae16bce31c8f8c95daddd9f...</td>\n",
              "      <td>£53.74</td>\n",
              "      <td>One</td>\n",
              "    </tr>\n",
              "    <tr>\n",
              "      <th>2</th>\n",
              "      <td>Soumission</td>\n",
              "      <td>media/cache/3e/ef/3eef99c9d9adef34639f51066202...</td>\n",
              "      <td>£50.10</td>\n",
              "      <td>One</td>\n",
              "    </tr>\n",
              "    <tr>\n",
              "      <th>3</th>\n",
              "      <td>Sharp Objects</td>\n",
              "      <td>media/cache/32/51/3251cf3a3412f53f339e42cac213...</td>\n",
              "      <td>£47.82</td>\n",
              "      <td>Four</td>\n",
              "    </tr>\n",
              "    <tr>\n",
              "      <th>4</th>\n",
              "      <td>Sapiens: A Brief History of Humankind</td>\n",
              "      <td>media/cache/be/a5/bea5697f2534a2f86a3ef27b5a8c...</td>\n",
              "      <td>£54.23</td>\n",
              "      <td>Five</td>\n",
              "    </tr>\n",
              "    <tr>\n",
              "      <th>...</th>\n",
              "      <td>...</td>\n",
              "      <td>...</td>\n",
              "      <td>...</td>\n",
              "      <td>...</td>\n",
              "    </tr>\n",
              "    <tr>\n",
              "      <th>975</th>\n",
              "      <td>Our Band Could Be Your Life: Scenes from the A...</td>\n",
              "      <td>media/cache/54/60/54607fe8945897cdcced0044103b...</td>\n",
              "      <td>£57.25</td>\n",
              "      <td>Three</td>\n",
              "    </tr>\n",
              "    <tr>\n",
              "      <th>976</th>\n",
              "      <td>Olio</td>\n",
              "      <td>media/cache/55/33/553310a7162dfbc2c6d19a84da0d...</td>\n",
              "      <td>£23.88</td>\n",
              "      <td>One</td>\n",
              "    </tr>\n",
              "    <tr>\n",
              "      <th>977</th>\n",
              "      <td>Mesaerion: The Best Science Fiction Stories 18...</td>\n",
              "      <td>media/cache/09/a3/09a3aef48557576e1a85ba7efea8...</td>\n",
              "      <td>£37.59</td>\n",
              "      <td>One</td>\n",
              "    </tr>\n",
              "    <tr>\n",
              "      <th>978</th>\n",
              "      <td>Libertarianism for Beginners</td>\n",
              "      <td>media/cache/0b/bc/0bbcd0a6f4bcd81ccb1049a52736...</td>\n",
              "      <td>£51.33</td>\n",
              "      <td>Two</td>\n",
              "    </tr>\n",
              "    <tr>\n",
              "      <th>979</th>\n",
              "      <td>It's Only the Himalayas</td>\n",
              "      <td>media/cache/27/a5/27a53d0bb95bdd88288eaf66c923...</td>\n",
              "      <td>£45.17</td>\n",
              "      <td>Two</td>\n",
              "    </tr>\n",
              "  </tbody>\n",
              "</table>\n",
              "<p>980 rows × 4 columns</p>\n",
              "</div>"
            ],
            "text/plain": [
              "                                                  Name  ... Rating\n",
              "0                                 A Light in the Attic  ...  Three\n",
              "1                                   Tipping the Velvet  ...    One\n",
              "2                                           Soumission  ...    One\n",
              "3                                        Sharp Objects  ...   Four\n",
              "4                Sapiens: A Brief History of Humankind  ...   Five\n",
              "..                                                 ...  ...    ...\n",
              "975  Our Band Could Be Your Life: Scenes from the A...  ...  Three\n",
              "976                                               Olio  ...    One\n",
              "977  Mesaerion: The Best Science Fiction Stories 18...  ...    One\n",
              "978                       Libertarianism for Beginners  ...    Two\n",
              "979                            It's Only the Himalayas  ...    Two\n",
              "\n",
              "[980 rows x 4 columns]"
            ]
          },
          "metadata": {
            "tags": []
          },
          "execution_count": 91
        }
      ]
    },
    {
      "cell_type": "code",
      "metadata": {
        "id": "c7ONHWw-8f2f"
      },
      "source": [
        ""
      ],
      "execution_count": null,
      "outputs": []
    }
  ]
}